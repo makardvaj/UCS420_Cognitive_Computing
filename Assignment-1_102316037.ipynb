{
 "cells": [
  {
   "cell_type": "markdown",
   "metadata": {},
   "source": [
    "# Assignment 1\n"
   ]
  },
  {
   "cell_type": "markdown",
   "metadata": {},
   "source": [
    "Assingment 1.1: WAP to print your name three times"
   ]
  },
  {
   "cell_type": "code",
   "execution_count": 1,
   "metadata": {},
   "outputs": [
    {
     "name": "stdout",
     "output_type": "stream",
     "text": [
      "Vaibhav Srivastva\n",
      "Vaibhav Srivastva\n",
      "Vaibhav Srivastva\n"
     ]
    }
   ],
   "source": [
    "for i in range(3):\n",
    "    print(\"Vaibhav Srivastva\")"
   ]
  },
  {
   "cell_type": "markdown",
   "metadata": {},
   "source": [
    "\n",
    "\n",
    "Assingment 2.1: WAP to add three numbers and print the result.\n",
    "\n",
    "Assingment 2.2: WAP to concatinate three strings and print the result.\n"
   ]
  },
  {
   "cell_type": "code",
   "execution_count": 2,
   "metadata": {},
   "outputs": [
    {
     "name": "stdout",
     "output_type": "stream",
     "text": [
      "Sum of three numbers if 30\n",
      "\n",
      "Ishtpreet Singh Ahuja\n"
     ]
    }
   ],
   "source": [
    "#2.1\n",
    "a = 10\n",
    "b = 20\n",
    "c = 30\n",
    "sum = a + b + c\n",
    "print(f\"Sum of three numbers if {c}\")\n",
    "\n",
    "# 2.2\n",
    "print(\"\\nIshtpreet\" + \" Singh \" + \"Ahuja\")"
   ]
  },
  {
   "cell_type": "markdown",
   "metadata": {},
   "source": [
    "Assingment 4.1: WAP to print the table of 7, 9.\n",
    "\n",
    "Assingment 4.2: WAP to print the table of n and n is given by user.\n",
    "\n",
    "Assingment 4.3: WAP to add all the numbers from 1 to n and n is given by user"
   ]
  },
  {
   "cell_type": "code",
   "execution_count": 9,
   "metadata": {},
   "outputs": [
    {
     "name": "stdout",
     "output_type": "stream",
     "text": [
      "\n",
      "Table of 7\n",
      "7 X 0 = 0\n",
      "7 X 1 = 7\n",
      "7 X 2 = 14\n",
      "7 X 3 = 21\n",
      "7 X 4 = 28\n",
      "7 X 5 = 35\n",
      "7 X 6 = 42\n",
      "7 X 7 = 49\n",
      "7 X 8 = 56\n",
      "7 X 9 = 63\n",
      "\n",
      "Table of 9\n",
      "9 X 0 = 0\n",
      "9 X 1 = 9\n",
      "9 X 2 = 18\n",
      "9 X 3 = 27\n",
      "9 X 4 = 36\n",
      "9 X 5 = 45\n",
      "9 X 6 = 54\n",
      "9 X 7 = 63\n",
      "9 X 8 = 72\n",
      "9 X 9 = 81\n",
      "\n",
      "\n",
      "Table of 5\n",
      "5 X 0 = 0\n",
      "5 X 1 = 5\n",
      "5 X 2 = 10\n",
      "5 X 3 = 15\n",
      "5 X 4 = 20\n",
      "5 X 5 = 25\n",
      "5 X 6 = 30\n",
      "5 X 7 = 35\n",
      "5 X 8 = 40\n",
      "5 X 9 = 45\n",
      "\n",
      "\n",
      "Sum of numbers up to 10 is 55\n"
     ]
    }
   ],
   "source": [
    "# 4.1\n",
    "print(\"\\nTable of 7\")\n",
    "for i in range(10):\n",
    "    print(f\"7 X {i} = {7*i}\")\n",
    "\n",
    "print(\"\\nTable of 9\")\n",
    "for i in range(10):\n",
    "    print(f\"9 X {i} = {9*i}\")\n",
    "    \n",
    "# 4.2\n",
    "table = int(input(\"Enter the number you want a table of: \"))\n",
    "print(f\"\\n\\nTable of {table}\")\n",
    "for i in range(10):\n",
    "    print(f\"{table} X {i} = {table*i}\")\n",
    "\n",
    "# 4.3\n",
    "n = int(input(\"\\nEnter number 'n' to get sum of all digits till 'n': \"))\n",
    "ans = 0\n",
    "for i in range(n + 1):\n",
    "    ans += i\n",
    "print(f\"\\n\\nSum of numbers up to {n} is {ans}\")"
   ]
  },
  {
   "cell_type": "markdown",
   "metadata": {},
   "source": [
    "\n",
    "\n",
    "Assingment 5.1: WAP to find max amoung three numbers and input from user. [Try max() function]\n",
    "\n",
    "Assingment 5.2: WAP to add all numbers divisible by 7 and 9 from 1 to n and n is given by the user.\n",
    "\n",
    "Assingment 5.3: WAP to add all prime numbers from 1 to n and n is given by the user.\n"
   ]
  },
  {
   "cell_type": "code",
   "execution_count": 2,
   "metadata": {},
   "outputs": [
    {
     "name": "stdout",
     "output_type": "stream",
     "text": [
      "\n",
      "Max number out the three numbers from input is 30\n",
      "\n",
      "Sum of all number divisible by 7 and 9 between 1 and 50: 0\n",
      "\n",
      "Prime numbers up to 50 are [2, 3, 5, 7, 11, 13, 17, 19, 23, 29, 31, 37, 41, 43, 47]\n"
     ]
    }
   ],
   "source": [
    "    \n",
    "# 5.1\n",
    "x = int(input(\"Enter first number: \"))\n",
    "y = int(input(\"Enter second number: \"))\n",
    "z = int(input(\"Enter third number: \"))\n",
    "print(f\"\\nMax number out the three numbers from input is {max(x, y, z)}\")\n",
    "\n",
    "# 5.2\n",
    "divisible = int(input(\"Enter number upto which you want sum of numbers divisible by 7 and 9\"))\n",
    "sum2 = sum([i for i in range(divisible) if i % 7 == 0 and i % 9 == 0])\n",
    "print(f\"\\nSum of all number divisible by 7 and 9 between 1 and {divisible}: {sum2}\")\n",
    "\n",
    "# 5.3\n",
    "def isPrime(num):\n",
    "    if num == 0 or num == 1:\n",
    "        return False\n",
    "    elif num == 2:\n",
    "        return True\n",
    "    for i in range(2, int(num**0.5) + 1):\n",
    "        if num % i == 0:\n",
    "            return False\n",
    "    return True\n",
    "\n",
    "prime = int(input(\"Enter a number to find prime numbers up to it: \"))\n",
    "answer = [i for i in range(2, prime + 1) if isPrime(i)]\n",
    "print(f\"\\nPrime numbers up to {prime} are {answer}\")\n"
   ]
  },
  {
   "cell_type": "markdown",
   "metadata": {},
   "source": [
    "\n",
    "\n",
    "Assingment 6.1: WAP using function that add all odd numbers from 1 to n, n is given by the user.\n",
    "\n",
    "Assingment 6.2: WAP using function that add all prime numbers from 1 to n, n given by the user.\n"
   ]
  },
  {
   "cell_type": "code",
   "execution_count": 3,
   "metadata": {},
   "outputs": [
    {
     "name": "stdout",
     "output_type": "stream",
     "text": [
      "\n",
      "Sum of all odd numbers between 1 and 50: 625\n",
      "\n",
      "Sum of prime numbers upto 50 are 328\n"
     ]
    }
   ],
   "source": [
    "# 6.1\n",
    "n = int(input(\"Enter number upto which you want sum of all odd numbers: \"))\n",
    "sum_odd = sum([i for i in range(n) if i % 2 != 0])\n",
    "print(f\"\\nSum of all odd numbers between 1 and {n}: {sum_odd}\")\n",
    "\n",
    "# 6.2\n",
    "primesum = int(input(\"Enter a number to find the sum of prime numbers upto it: \"))\n",
    "answersum = sum([i for i in range(prime) if isPrime(i)])\n",
    "print(f\"\\nSum of prime numbers upto {primesum} are {answersum}\")"
   ]
  }
 ],
 "metadata": {
  "kernelspec": {
   "display_name": "Python 3",
   "language": "python",
   "name": "python3"
  },
  "language_info": {
   "codemirror_mode": {
    "name": "ipython",
    "version": 3
   },
   "file_extension": ".py",
   "mimetype": "text/x-python",
   "name": "python",
   "nbconvert_exporter": "python",
   "pygments_lexer": "ipython3",
   "version": "3.12.8"
  }
 },
 "nbformat": 4,
 "nbformat_minor": 2
}
